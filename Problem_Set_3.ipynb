{
  "nbformat": 4,
  "nbformat_minor": 0,
  "metadata": {
    "colab": {
      "provenance": [],
      "authorship_tag": "ABX9TyPpznAqmA0dhHxeYuhF4b1p",
      "include_colab_link": true
    },
    "kernelspec": {
      "name": "python3",
      "display_name": "Python 3"
    },
    "language_info": {
      "name": "python"
    }
  },
  "cells": [
    {
      "cell_type": "markdown",
      "metadata": {
        "id": "view-in-github",
        "colab_type": "text"
      },
      "source": [
        "<a href=\"https://colab.research.google.com/github/Hertie-School-Machine-Learning-F2022/problem_set_03/blob/main/Problem_Set_3.ipynb\" target=\"_parent\"><img src=\"https://colab.research.google.com/assets/colab-badge.svg\" alt=\"Open In Colab\"/></a>"
      ]
    },
    {
      "cell_type": "markdown",
      "source": [
        "# Problem Set 3.\n",
        "\n",
        "Submit by: Thursday Nov 3, 2022, 23:59\n",
        "\n",
        "Please answer the problem set and submit the code to the corresponding github repository."
      ],
      "metadata": {
        "id": "FfPzZA49xx2W"
      }
    },
    {
      "cell_type": "code",
      "execution_count": null,
      "metadata": {
        "id": "R-XHiXJmctHn"
      },
      "outputs": [],
      "source": [
        "# Load the dataset called adult-census.csv and save it as a Pandas DF called adult_census\n",
        "\n",
        "adult_census = "
      ]
    },
    {
      "cell_type": "markdown",
      "source": [
        "**Question 1. What is the mean value of \"age\"?**"
      ],
      "metadata": {
        "id": "SmT8D1LkwhlD"
      }
    },
    {
      "cell_type": "code",
      "source": [
        "# Calculate the mean of \"age\" variable\n"
      ],
      "metadata": {
        "id": "OgqomjXQfaRW"
      },
      "execution_count": null,
      "outputs": []
    },
    {
      "cell_type": "markdown",
      "source": [
        "Set \"class\" as your target variable y\n",
        "\n",
        "Set only the numerical features (currently saved as either integers or floats) as X.\n"
      ],
      "metadata": {
        "id": "Pmvld3iwfX7u"
      }
    },
    {
      "cell_type": "code",
      "source": [
        "# Set X and y \n",
        "\n",
        "y = \n",
        "X = "
      ],
      "metadata": {
        "id": "haBn46P3fOCO"
      },
      "execution_count": null,
      "outputs": []
    },
    {
      "cell_type": "markdown",
      "source": [
        "**Question 2. What is the standard deviation of the variable \"capital-gain\" in X?**\n"
      ],
      "metadata": {
        "id": "dFoNxt7hwy4d"
      }
    },
    {
      "cell_type": "code",
      "source": [
        "# Calculate the s.d. of \"capital-gain\"\n",
        "\n"
      ],
      "metadata": {
        "id": "KOzg0fOlV-sj"
      },
      "execution_count": null,
      "outputs": []
    },
    {
      "cell_type": "markdown",
      "source": [
        "\"Education-num\" is not going to be used in this model. Remove the \"education-num\" variable from X."
      ],
      "metadata": {
        "id": "d_vDv0e-fYX4"
      }
    },
    {
      "cell_type": "code",
      "source": [
        "# Remove \"education-num\" variable from the X data you set above\n",
        "\n",
        "X = "
      ],
      "metadata": {
        "id": "p2jMXu3cfYsu"
      },
      "execution_count": 79,
      "outputs": []
    },
    {
      "cell_type": "markdown",
      "source": [
        "**Question 3. How many numerical features are present in X now?**"
      ],
      "metadata": {
        "id": "gLtLwYNId0DN"
      }
    },
    {
      "cell_type": "code",
      "source": [
        "# Write your code here\n"
      ],
      "metadata": {
        "id": "ZDAEp9z1dzrd"
      },
      "execution_count": null,
      "outputs": []
    },
    {
      "cell_type": "markdown",
      "source": [
        "**Question 4. What is the most frequent feature in y?**"
      ],
      "metadata": {
        "id": "IMmqVF0axPEz"
      }
    },
    {
      "cell_type": "code",
      "source": [
        "# Write your code here\n"
      ],
      "metadata": {
        "id": "NqLHkCj9Wieb"
      },
      "execution_count": null,
      "outputs": []
    },
    {
      "cell_type": "markdown",
      "source": [
        "Using the X that only contained the numerical variables without education-num, and the previously set y:\n",
        "\n",
        "Compare the generalization performace using the accuracy of the two following predictive models (no training and testing set necessary):\n",
        "\n",
        "\n",
        "*   A linear model composed of StandardScaler and a LogisticRegression\n",
        "*   A DummyClassifier predicting the most frequent class\n",
        "\n"
      ],
      "metadata": {
        "id": "gsKSQLtFeR9R"
      }
    },
    {
      "cell_type": "code",
      "source": [
        "# Import the models and fit the using X and y (For this problem set you do not have to \n",
        "# use training and testing sets)\n",
        "\n"
      ],
      "metadata": {
        "id": "jnGCFIoweHcL"
      },
      "execution_count": null,
      "outputs": []
    },
    {
      "cell_type": "markdown",
      "source": [
        "\n",
        "**Question 5. By comparing test scores of both models, which classifier did better?**"
      ],
      "metadata": {
        "id": "BuouqYdMiuQu"
      }
    },
    {
      "cell_type": "code",
      "source": [
        "# Obtain the scores of both models"
      ],
      "metadata": {
        "id": "u0ITnVG_WlXO"
      },
      "execution_count": null,
      "outputs": []
    },
    {
      "cell_type": "markdown",
      "source": [
        "**Question 6. What is the value of the odds ratio of the \"capital-loss\" feature?**"
      ],
      "metadata": {
        "id": "De7MJUIzkXqz"
      }
    },
    {
      "cell_type": "code",
      "source": [
        "# Acces the coeficients and calculate the odds\n"
      ],
      "metadata": {
        "id": "mW7kaC09kUWq"
      },
      "execution_count": null,
      "outputs": []
    },
    {
      "cell_type": "markdown",
      "source": [
        "Use a Confusion Matrix to evaluate the predictions with more granularity.\n"
      ],
      "metadata": {
        "id": "HV_r7gngxfZ9"
      }
    },
    {
      "cell_type": "code",
      "source": [
        "# Visualize a confusion matrix\n"
      ],
      "metadata": {
        "id": "zsJOJ8z4xvFV"
      },
      "execution_count": null,
      "outputs": []
    },
    {
      "cell_type": "markdown",
      "source": [
        "\n",
        "**Question 7. Do you think accuracy is a good metric to evaluate this dataset? Justify your answer.**"
      ],
      "metadata": {
        "id": "-2BAPPT1XyQv"
      }
    }
  ]
}